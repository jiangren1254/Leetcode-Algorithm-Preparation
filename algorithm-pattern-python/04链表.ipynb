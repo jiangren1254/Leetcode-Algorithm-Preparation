{
 "cells": [
  {
   "cell_type": "markdown",
   "id": "28930140",
   "metadata": {},
   "source": [
    "[链表](data_structure/linked_list.md)  \n",
    "\n",
    "链表相关的核心点  \n",
    "- null/nil 异常处理, 访问 X.next 、X.value,否则就报错\n",
    "- dummy node 哑巴节点, 就看看头节点是否被删除\n",
    "- 快慢指针\n",
    "- 插入一个节点到排序链表\n",
    "- 从一个链表中移除一个节点, 典型题：删除排序链表中的重复元素1,2\n",
    "- 翻转链表, 整体翻转，局部翻转，两道题，用迭代法\n",
    "- 合并两个链表, 合并后有序\n",
    "- 找到链表的中间节点\n",
    "\n",
    "\n",
    "一共12个题\n",
    "\n",
    "peek 这个单词在英语里意思是 偷看、瞥一眼。  \n",
    "在编程里常常表示 “先看一下下一个元素” 的动作。  \n",
    "👉peek  “探查指针 / 窥视指针”，即负责往前探查链表节点的变量。  \n",
    "tricky 棘手的\n",
    "\n",
    "dummy peek duplicate  "
   ]
  },
  {
   "cell_type": "code",
   "execution_count": 17,
   "id": "244cebc5",
   "metadata": {},
   "outputs": [
    {
     "data": {
      "text/plain": [
       "(5, None)"
      ]
     },
     "execution_count": 17,
     "metadata": {},
     "output_type": "execute_result"
    }
   ],
   "source": [
    "class ListNode:\n",
    "    def __init__(self,val=0,next= None):\n",
    "        self.val = val\n",
    "        self.next = next\n",
    "node1 = ListNode(val = 5)\n",
    "node1.val, node1.next"
   ]
  },
  {
   "cell_type": "code",
   "execution_count": null,
   "id": "b30c56b6",
   "metadata": {},
   "outputs": [],
   "source": [
    "def remove_duplicate():\n",
    "    if root is None:\n",
    "        return None\n",
    "\n",
    "    dummy = ListNote(next = head)\n",
    "    \n",
    "    current, peek = dummy, head\n",
    "    find_duplicate = False\n",
    "    while peek.next is not None:\n",
    "        if peek.next.val == peek.val:\n",
    "            find_duplicate = True\n",
    "            peek.next = peek.next.next\n",
    "        else:\n",
    "            if find_duplicate:\n",
    "                find_duplicate = False\n",
    "                current.next = peek.next\n",
    "            else:\n",
    "                current = current.next\n",
    "            peek = current.next\n",
    "    if find_duplicate:\n",
    "        current.next = current.next.next\n",
    "        \n",
    "    return dummy.next\n",
    "            \n"
   ]
  },
  {
   "cell_type": "code",
   "execution_count": null,
   "id": "120047b9",
   "metadata": {},
   "outputs": [],
   "source": [
    "def reverseList(head):\n",
    "    if head is None:\n",
    "        return None\n",
    "    \n",
    "    tail = head\n",
    "    while tail.next is not None:\n",
    "        temp = tail.next\n",
    "        tail.next = temp.next\n",
    "        temp.next = head\n",
    "        head = temp\n",
    "    \n",
    "    return head\n",
    "        "
   ]
  },
  {
   "cell_type": "code",
   "execution_count": 3,
   "id": "07138c16",
   "metadata": {},
   "outputs": [],
   "source": [
    "def reverseBetween(head):\n",
    "    if head is  None:\n",
    "        return None\n",
    "    n -= m\n",
    "    current = dummy = ListNode(next=head)\n",
    "    while  m > 1:\n",
    "        current = current.next\n",
    "        m-=1\n",
    "    start = current.next\n",
    "    while n > 0:\n",
    "        temp = start.next\n",
    "        start.next = temp.next\n",
    "        temp.next = current.next\n",
    "        current.next = temp\n",
    "        n-=1\n",
    "        \n",
    "    return dummy.next"
   ]
  },
  {
   "cell_type": "code",
   "execution_count": 7,
   "id": "84f62f2f",
   "metadata": {},
   "outputs": [],
   "source": [
    "nums1: list[int] = [1, 2, 3]\n",
    "nums2: list[int] = [6, 8, 7, 10, 9]\n",
    "nums2.sort()"
   ]
  },
  {
   "cell_type": "code",
   "execution_count": 8,
   "id": "f6b05bca",
   "metadata": {},
   "outputs": [
    {
     "data": {
      "text/plain": [
       "[6, 7, 8, 9, 10]"
      ]
     },
     "execution_count": 8,
     "metadata": {},
     "output_type": "execute_result"
    }
   ],
   "source": [
    "nums2"
   ]
  },
  {
   "cell_type": "code",
   "execution_count": null,
   "id": "51c0bf07",
   "metadata": {},
   "outputs": [],
   "source": [
    "def mergeTwoLists(list1, list2):\n",
    "    \n",
    "    tail = dummy = ListNode()\n",
    "    while list1 is not None and list2 is not None:\n",
    "        if list1.val < list2.val:\n",
    "            tail.next = list1\n",
    "            list1 = list1.next\n",
    "        else:\n",
    "            tail.next = list2\n",
    "            list2 = list2.next\n",
    "            \n",
    "        tail = tail.next\n",
    "    tail.next = list2 if list1 is None else list1\n",
    "    \n",
    "    return dummy.next\n",
    "\n"
   ]
  },
  {
   "cell_type": "code",
   "execution_count": null,
   "id": "7ae09eef",
   "metadata": {},
   "outputs": [],
   "source": [
    "def partition(head,x=3):\n",
    "    \n",
    "    tail = dummy = ListNode()\n",
    "    old_tail = old_dummy = ListNode(next = head)\n",
    "    while old_tail.next is not None:\n",
    "        if old_tail.next.val < x:\n",
    "            old_tail = old_tail.next\n",
    "        else:\n",
    "            tail.next = old_tail.next\n",
    "            old_tail.next = old_tail.next.next\n",
    "            tail = tail.next\n",
    "    tail.next = None\n",
    "    old_tail.next = dummy.next\n",
    "        \n",
    "    return old_dummy.next\n",
    "            \n",
    "    "
   ]
  },
  {
   "cell_type": "markdown",
   "id": "b3d1f128",
   "metadata": {},
   "source": [
    "在不同语言里，链表“空指针”写法不一样：\n",
    "\n",
    "Python → None\n",
    "\n",
    "C / C++ → NULL（C++11 之后推荐 nullptr）\n",
    "\n",
    "Java / Go → null\n",
    "\n",
    "Swift → nil\n",
    "\n",
    "C# → null\n",
    "\n",
    "所以你说的 nil，放到 Python 里，就是 None。"
   ]
  }
 ],
 "metadata": {
  "kernelspec": {
   "display_name": "d2l-zh",
   "language": "python",
   "name": "python3"
  },
  "language_info": {
   "codemirror_mode": {
    "name": "ipython",
    "version": 3
   },
   "file_extension": ".py",
   "mimetype": "text/x-python",
   "name": "python",
   "nbconvert_exporter": "python",
   "pygments_lexer": "ipython3",
   "version": "3.9.21"
  }
 },
 "nbformat": 4,
 "nbformat_minor": 5
}
