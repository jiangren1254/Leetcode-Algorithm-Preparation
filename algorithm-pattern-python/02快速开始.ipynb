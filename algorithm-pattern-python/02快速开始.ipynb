{
 "cells": [
  {
   "cell_type": "markdown",
   "id": "7f8315be",
   "metadata": {},
   "source": [
    "[快速开始](introduction/quickstart.md)"
   ]
  },
  {
   "cell_type": "markdown",
   "id": "9abcd5d6",
   "metadata": {},
   "source": [
    "“find a needle in a haystack”（在干草堆里找针）\n",
    "\n",
    "在程序语境里：\n",
    "\n",
    "- haystack 表示你要搜索的主字符串\n",
    "- needle 表示你要查找的子字符串\n",
    "\n",
    "在 haystack 这个主字符串中查找 needle 这个子字符串，返回它第一次出现的位置（从 0 开始计数），如果没找到就返回 -1。这个问题也叫 字符串匹配问题。"
   ]
  },
  {
   "cell_type": "code",
   "execution_count": null,
   "id": "309c86e7",
   "metadata": {},
   "outputs": [],
   "source": [
    "class Solution:\n",
    "    def strStr(self, haystack: str, needle: str) -> int:\n",
    "        L, n = len(needle), len(haystack)\n",
    "\n",
    "        for start in range(n - L + 1):\n",
    "            if haystack[start:start + L] == needle:\n",
    "                return start\n",
    "        return -1"
   ]
  },
  {
   "cell_type": "markdown",
   "id": "998914e2",
   "metadata": {},
   "source": [
    "回溯算法（backtracking algorithm）是一种通过穷举来解决问题的方法，它的核心思想是从一个初始状态出发，暴力搜索所有可能的解决方案，当遇到正确的解则将其记录，直到找到解或者尝试了所有可能的选择都无法找到解为止。  \n",
    "\n",
    "之所以称之为回溯算法，是因为该算法在搜索解空间时会采用“尝试”与“回退”的策略。"
   ]
  },
  {
   "cell_type": "markdown",
   "id": "75bf9429",
   "metadata": {},
   "source": [
    "```python\n",
    "result = []\n",
    "func backtrack(选择列表,路径):\n",
    "    if 满足结束条件:\n",
    "        result.add(路径)\n",
    "        return\n",
    "    for 选择 in 选择列表:\n",
    "        做选择\n",
    "        backtrack(选择列表,路径)\n",
    "        撤销选择"
   ]
  },
  {
   "cell_type": "code",
   "execution_count": null,
   "id": "38549965",
   "metadata": {},
   "outputs": [],
   "source": [
    "from typing import List\n",
    "\n",
    "\n",
    "class Solution:\n",
    "    def subsets(self, nums: List[int]) -> List[List[int]]:\n",
    "        \"\"\"subsets的回朔法条件是: 选出 k 个元素来组成子集\"\"\"\n",
    "        n = len(nums)\n",
    "        result = []\n",
    "        \n",
    "        def backtrack(start, k, route=[]):\n",
    "            if len(route) == k:\n",
    "                result.append(route.copy())\n",
    "                return\n",
    "            \n",
    "            for i in range(start, n):\n",
    "                route.append(nums[i])\n",
    "                backtrack(i + 1, k)\n",
    "                route.pop()\n",
    "\n",
    "            return\n",
    "        \n",
    "        for k in range(n + 1):\n",
    "            backtrack(0, k)\n",
    "        \n",
    "        return result"
   ]
  },
  {
   "cell_type": "markdown",
   "id": "95bfdee7",
   "metadata": {},
   "source": [
    "说明：这个典型的回溯算法问题，当前不太了解，我选择暂时先跳过"
   ]
  },
  {
   "cell_type": "code",
   "execution_count": null,
   "id": "90c10176",
   "metadata": {},
   "outputs": [],
   "source": []
  }
 ],
 "metadata": {
  "kernelspec": {
   "display_name": "d2l-zh",
   "language": "python",
   "name": "python3"
  },
  "language_info": {
   "name": "python",
   "version": "3.9.21"
  }
 },
 "nbformat": 4,
 "nbformat_minor": 5
}
