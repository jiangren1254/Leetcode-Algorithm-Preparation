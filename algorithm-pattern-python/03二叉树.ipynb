{
 "cells": [
  {
   "cell_type": "markdown",
   "id": "e9a5622f",
   "metadata": {},
   "source": [
    "[二叉树](data_structure/binary_tree.md)"
   ]
  },
  {
   "cell_type": "markdown",
   "id": "f7b979fb",
   "metadata": {},
   "source": [
    "深度优先搜索（DFS，Depth-First Search）  \n",
    "广度优先搜索（BFS，Breadth-First Search）\n",
    "\n",
    "## 二叉树的四种遍历方式\n",
    "\n",
    "\n",
    "- 前序遍历：**先访问根节点**，再前序遍历左子树，再前序遍历右子树\n",
    "- 中序遍历：先中序遍历左子树，**再访问根节点**，再中序遍历右子树\n",
    "- 后序遍历：先后序遍历左子树，再后序遍历右子树，**再访问根节点**\n",
    "- 层序遍历：xxx\n",
    "\n",
    "> - 以根访问顺序决定是什么遍历\n",
    "> - 左子树都是优先右子树"
   ]
  },
  {
   "cell_type": "code",
   "execution_count": null,
   "id": "7e388f69",
   "metadata": {},
   "outputs": [],
   "source": [
    "def preorder_rec(root):\n",
    "    if root is None:\n",
    "        return\n",
    "    visit(root)  # 记住模版中visit函数\n",
    "    preorder_rec(root.left)\n",
    "    preorder_rec(root.right)\n",
    "    return\n",
    "\n",
    "def inorder_rec(root):\n",
    "    if root is None:\n",
    "        return\n",
    "    inorder_rec(root.left)\n",
    "    visit(root)\n",
    "    inorder_rec(root.right)\n",
    "    return\n",
    "\n",
    "def postorder_rec(root):\n",
    "    if root is None:\n",
    "        return\n",
    "    postorder_rec(root.left)\n",
    "    postorder_rec(root.right)\n",
    "    visit(root)\n",
    "    return"
   ]
  },
  {
   "cell_type": "code",
   "execution_count": null,
   "id": "5fd4a133",
   "metadata": {},
   "outputs": [],
   "source": [
    "class Solution:\n",
    "    def preorderTraversal(self, root: TreeNode) -> List[int]:\n",
    "        \n",
    "        preorder = []  # 栈思想\n",
    "        if root is None:\n",
    "            return preorder\n",
    "        \n",
    "        s = [root]\n",
    "        while len(s) > 0:\n",
    "            node = s.pop()\n",
    "            preorder.append(node.val)\n",
    "            if node.right is not None:\n",
    "                s.append(node.right)\n",
    "            if node.left is not None:\n",
    "                s.append(node.left)\n",
    "        \n",
    "        return preorder\n",
    "    \n",
    "class Solution:\n",
    "    def inorderTraversal(self, root: TreeNode) -> List[int]:\n",
    "        s, inorder = [], []\n",
    "        node = root\n",
    "        while len(s) > 0 or node is not None:\n",
    "            if node is not None:\n",
    "                s.append(node)\n",
    "                node = node.left\n",
    "            else:\n",
    "                node = s.pop()\n",
    "                inorder.append(node.val)\n",
    "                node = node.right\n",
    "        return inorder\n",
    "    \n",
    "class Solution:\n",
    "    def postorderTraversal(self, root: TreeNode) -> List[int]:\n",
    "\n",
    "        s, postorder = [], []\n",
    "        node, last_visit = root, None\n",
    "        \n",
    "        while len(s) > 0 or node is not None:\n",
    "            if node is not None:\n",
    "                s.append(node)\n",
    "                node = node.left\n",
    "            else:\n",
    "                peek = s[-1]\n",
    "                if peek.right is not None and last_visit != peek.right:\n",
    "                    node = peek.right\n",
    "                else:\n",
    "                    last_visit = s.pop()\n",
    "                    postorder.append(last_visit.val)\n",
    "        \n",
    "        \n",
    "        return postorder"
   ]
  },
  {
   "cell_type": "code",
   "execution_count": 1,
   "id": "c8aa88df",
   "metadata": {},
   "outputs": [
    {
     "data": {
      "text/plain": [
       "Counter({1: 4, 2: 3, 5: 3, 3: 2, 6: 2, 41: 2, 7: 1, 8: 1})"
      ]
     },
     "execution_count": 1,
     "metadata": {},
     "output_type": "execute_result"
    }
   ],
   "source": [
    "import collections\n",
    "list = [1,1,2,1,5,3,6,7,8,5,6,41,2,3,1,5,2,41,]\n",
    "collections.Counter(list)"
   ]
  },
  {
   "cell_type": "code",
   "execution_count": 4,
   "id": "274b4da0",
   "metadata": {},
   "outputs": [
    {
     "data": {
      "text/plain": [
       "[[], []]"
      ]
     },
     "execution_count": 4,
     "metadata": {},
     "output_type": "execute_result"
    }
   ],
   "source": [
    "levels = []\n",
    "levels.append([])\n",
    "levels.append([])\n",
    "levels\n"
   ]
  },
  {
   "cell_type": "code",
   "execution_count": 11,
   "id": "8cfe9eae",
   "metadata": {},
   "outputs": [
    {
     "data": {
      "text/plain": [
       "deque([1, 3, 1])"
      ]
     },
     "execution_count": 11,
     "metadata": {},
     "output_type": "execute_result"
    }
   ],
   "source": [
    "# appendleft(x)\t在 左端 添加元素\td.appendleft(1) → d: [1, 3, 5]\n",
    "# append(x)\t在 右端 添加元素\td.append(5) → d: [3, 5]\n",
    "import collections\n",
    "bfs = collections.deque([3])\n",
    "bfs.append(1)\n",
    "bfs.appendleft(1)\n",
    "bfs"
   ]
  }
 ],
 "metadata": {
  "kernelspec": {
   "display_name": "d2l-zh",
   "language": "python",
   "name": "python3"
  },
  "language_info": {
   "codemirror_mode": {
    "name": "ipython",
    "version": 3
   },
   "file_extension": ".py",
   "mimetype": "text/x-python",
   "name": "python",
   "nbconvert_exporter": "python",
   "pygments_lexer": "ipython3",
   "version": "3.9.21"
  }
 },
 "nbformat": 4,
 "nbformat_minor": 5
}
