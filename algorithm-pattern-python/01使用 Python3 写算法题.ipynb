{
 "cells": [
  {
   "cell_type": "markdown",
   "id": "c7805371",
   "metadata": {},
   "source": [
    "[使用 Python3 写算法题](introduction/python.md)"
   ]
  },
  {
   "cell_type": "code",
   "execution_count": 3,
   "id": "7765fb14",
   "metadata": {},
   "outputs": [
    {
     "data": {
      "text/plain": [
       "[0, 0, 0, 0, 0]"
      ]
     },
     "execution_count": 3,
     "metadata": {},
     "output_type": "execute_result"
    }
   ],
   "source": [
    "# 初始化一个长度为 N 的一维数组\n",
    "N = 5\n",
    "Array = [0] * N\n",
    "Array"
   ]
  },
  {
   "cell_type": "code",
   "execution_count": 5,
   "id": "f1bbaead",
   "metadata": {},
   "outputs": [
    {
     "data": {
      "text/plain": [
       "[[0, 0, 0, 0], [0, 0, 0, 0], [0, 0, 0, 0]]"
      ]
     },
     "execution_count": 5,
     "metadata": {},
     "output_type": "execute_result"
    }
   ],
   "source": [
    "# 初始化一个形状为 MxN 的二维数组(矩阵)\n",
    "M = 3\n",
    "N = 4\n",
    "Matrix = [[0] * N for _ in range(M)] # 思考：可以写成 [[0] * N] * M 吗？\n",
    "Matrix"
   ]
  },
  {
   "cell_type": "code",
   "execution_count": 3,
   "id": "e005ddec",
   "metadata": {},
   "outputs": [
    {
     "data": {
      "text/plain": [
       "[0, 0, 0, 0, 0, 0, 0, 0, 0, 0, 0, 0]"
      ]
     },
     "execution_count": 3,
     "metadata": {},
     "output_type": "execute_result"
    }
   ],
   "source": [
    "[0] * N * M"
   ]
  },
  {
   "cell_type": "code",
   "execution_count": 9,
   "id": "4946e2d6",
   "metadata": {},
   "outputs": [
    {
     "data": {
      "text/plain": [
       "(1, 2)"
      ]
     },
     "execution_count": 9,
     "metadata": {},
     "output_type": "execute_result"
    }
   ],
   "source": [
    "a= 1\n",
    "b = 2\n",
    "\n",
    "# c语言风格的交换两个元素值\n",
    "tmp = a\n",
    "a = b\n",
    "b = tmp\n",
    "\n",
    "# python风格\n",
    "a, b = b, a\n",
    "a,b"
   ]
  },
  {
   "cell_type": "code",
   "execution_count": 11,
   "id": "994d393f",
   "metadata": {},
   "outputs": [
    {
     "data": {
      "text/plain": [
       "True"
      ]
     },
     "execution_count": 11,
     "metadata": {},
     "output_type": "execute_result"
    }
   ],
   "source": [
    "c = 3\n",
    "# 判断 a，b，c 是否相等，Python里可以直接写连等\n",
    "def is_KK():\n",
    "    if a == b == c:\n",
    "        return True\n",
    "\n",
    "    # 不等式也可以\n",
    "    if a <= b < c:\n",
    "        return True\n",
    "is_KK()"
   ]
  }
 ],
 "metadata": {
  "kernelspec": {
   "display_name": "d2l-zh",
   "language": "python",
   "name": "python3"
  },
  "language_info": {
   "codemirror_mode": {
    "name": "ipython",
    "version": 3
   },
   "file_extension": ".py",
   "mimetype": "text/x-python",
   "name": "python",
   "nbconvert_exporter": "python",
   "pygments_lexer": "ipython3",
   "version": "3.9.21"
  }
 },
 "nbformat": 4,
 "nbformat_minor": 5
}
