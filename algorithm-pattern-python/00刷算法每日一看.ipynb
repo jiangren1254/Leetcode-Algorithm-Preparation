{
 "cells": [
  {
   "cell_type": "markdown",
   "id": "c76dd050",
   "metadata": {},
   "source": [
    "每天刷2小时就可以，上午1小时，下午1小时，主要是保证刷题手感  \n",
    "\n",
    "[algorithm-pattern-python github 链接](https://github.com/dashidhy/algorithm-pattern-python)\n",
    "\n",
    "一点点往前刷，一定要结合 [hello-algo_1.2.0_zh_python](../hello-algo_1.2.0_zh_python.pdf)  这本书\n",
    "\n",
    "> 如何检验自己是否掌握了这个题？  \n",
    "> 看懂别人的答案后，一定要不借助任何提示，不卡顿的学出代码才算过关，有任何卡顿都要重新写。并且把卡住的地方总结带笔记里面"
   ]
  },
  {
   "cell_type": "markdown",
   "id": "f0c60de7",
   "metadata": {},
   "source": [
    "# "
   ]
  },
  {
   "cell_type": "markdown",
   "id": "40651d8f",
   "metadata": {},
   "source": [
    "# 进度管理"
   ]
  },
  {
   "cell_type": "markdown",
   "id": "4ee434f4",
   "metadata": {},
   "source": [
    "- 2025-08-01 学习内容：\n",
    "  - [01使用 Python3 写算法题](01使用%20Python3%20写算法题.ipynb)\n",
    "  - [02快速开始](./02快速开始.ipynb)\n",
    "\n",
    "- 2025-08-02 学习内容：\n",
    "  - [02快速开始](./02快速开始.ipynb)\n",
    "  - [03二叉树](./03二叉树.ipynb)\n",
    "\n",
    "\n",
    "\n",
    "- 2025-08-04 学习内容：\n",
    "  - [03二叉树](./03二叉树.ipynb), 看到了使用后序遍历(左->右->根)实现分治法的迭代版本解决平衡二叉树问题\n",
    "\n",
    "\n",
    "- 2025-08-20 学习内容：\n",
    "  - [03二叉树](./03二叉树.ipynb), 掌握了分治法的递归版本\n",
    "\n",
    "- 2025-08-23 学习内容：\n",
    "  - [03二叉树](./03二叉树.ipynb), 面试中被了回朔法“子集问题”\n",
    "  - 掌握了前序遍历非递归，未掌握中序和后序非递归写法\n",
    "  - [04链表](./04链表.ipynb), 刷了模版中的前六个题，remove duplicate,1,2、reverse list 局部，全局、merge list、 partition list\n",
    "\n",
    "- 2025-08-24 学习内容：\n",
    "  - [04链表](./04链表.ipynb), \n",
    "    -  归并排序：分治、找中点、合并两个有序链表；\n",
    "    -  reorder-list,找中点，反转后面的半部分，在原地修改\n",
    "    -  sort-list 和 reorder-list\n",
    "    -  linked-list-cycle,linked-list-cycle-ii\n",
    "    -  palindrome-linked-list，回文链表, 栈数据结构，有很多回文题\n",
    "    -  copy-list-with-random-pointer, 思路：复制结点跟在原结点后面，间接维护连接关系，优化空间复杂度，建立好新 list 的 random 链接后分离\n",
    "  - [05栈和队列](./05栈和队列.ipynb)\n",
    "    -  min-stack, 栈的增删查\n",
    "    -  “计算逆波兰表达式”, 利用栈后入先出的特性  evaluate-reverse-polish-notation\n",
    "    -  decode-string, 将元素压入栈，遇到']'解码\n",
    "    -  二叉树中序遍历，迭代实现，利用栈,牢记 左、根、右\n",
    "    -  clone-graph, 图掌握的不太好，后面还需要练\n",
    "    -  number-of-islands，思路：通过深度搜索遍历可能性（注意标记已访问元素）\n",
    "\n",
    "- 2025-08-25 学习内容：\n",
    "  - [05栈和队列](./05栈和队列.ipynb)\n",
    "    - number-of-islands，思路：通过深度搜索遍历可能性（注意标记已访问元素）"
   ]
  }
 ],
 "metadata": {
  "kernelspec": {
   "display_name": "d2l-zh",
   "language": "python",
   "name": "python3"
  },
  "language_info": {
   "name": "python",
   "version": "3.9.21"
  }
 },
 "nbformat": 4,
 "nbformat_minor": 5
}
