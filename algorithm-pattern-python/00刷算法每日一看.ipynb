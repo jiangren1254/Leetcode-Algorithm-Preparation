{
 "cells": [
  {
   "cell_type": "markdown",
   "id": "c76dd050",
   "metadata": {},
   "source": [
    "每天刷2小时就可以，上午1小时，下午1小时，主要是保证刷题手感  \n",
    "\n",
    "[algorithm-pattern-python github 链接](https://github.com/dashidhy/algorithm-pattern-python)\n",
    "\n",
    "一点点往前刷，一定要结合 [hello-algo_1.2.0_zh_python](../hello-algo_1.2.0_zh_python.pdf)  这本书\n",
    "\n",
    "> 如何检验自己是否掌握了这个题？  \n",
    "> 看懂别人的答案后，一定要不借助任何提示，不卡顿的学出代码才算过关，有任何卡顿都要重新写。并且把卡住的地方总结带笔记里面"
   ]
  },
  {
   "cell_type": "markdown",
   "id": "f0c60de7",
   "metadata": {},
   "source": [
    "# "
   ]
  },
  {
   "cell_type": "markdown",
   "id": "40651d8f",
   "metadata": {},
   "source": [
    "# 进度管理"
   ]
  },
  {
   "cell_type": "markdown",
   "id": "4ee434f4",
   "metadata": {},
   "source": [
    "- 2025-08-01 学习内容：\n",
    "  - [01使用 Python3 写算法题](01使用%20Python3%20写算法题.ipynb)\n",
    "  - [02快速开始](./02快速开始.ipynb)\n",
    "\n",
    "- 2025-08-02 学习内容：\n",
    "  - [02快速开始](./02快速开始.ipynb)\n",
    "  - [03二叉树](./03二叉树.ipynb)\n",
    "\n",
    "\n",
    "\n",
    "- 2025-08-04 学习内容：\n",
    "  - [03二叉树](./03二叉树.ipynb), 看到了使用后序遍历(左->右->根)实现分治法的迭代版本解决平衡二叉树问题\n",
    "\n",
    "\n",
    "- 2025-08-20 学习内容：\n",
    "  - [03二叉树](./03二叉树.ipynb), 掌握了分治法的递归版本\n",
    "\n",
    "- 2025-08-23 学习内容：\n",
    "  - [03二叉树](./03二叉树.ipynb), 面试中被了回朔法“子集问题”\n",
    "  - 掌握了前序遍历非递归，未掌握中序和后序非递归写法"
   ]
  }
 ],
 "metadata": {
  "language_info": {
   "name": "python"
  }
 },
 "nbformat": 4,
 "nbformat_minor": 5
}
