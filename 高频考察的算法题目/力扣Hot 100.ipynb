{
 "cells": [
  {
   "cell_type": "markdown",
   "id": "968bba35",
   "metadata": {},
   "source": [
    "## 前言\n",
    "https://codetop.cc/home\n",
    "\n",
    "力扣hot100 高频考查题 \n",
    "\n",
    "---\n"
   ]
  },
  {
   "cell_type": "markdown",
   "id": "2e82353c",
   "metadata": {},
   "source": [
    "### 121. 买卖股票的最佳时机\n",
    "思路："
   ]
  },
  {
   "cell_type": "markdown",
   "id": "e870abb9",
   "metadata": {},
   "source": [
    "### 20. 有效的括号\n",
    "思路：选用栈数据结构，利用一个哈希表决定是否出栈，那最后，栈为空True, 栈不为空为False\n",
    "- 细节1，可以匹配不上可以提前结束\n",
    "效果分析：\n",
    "- 最坏一次遍历就解决了"
   ]
  },
  {
   "cell_type": "code",
   "execution_count": 1,
   "id": "455fb07e",
   "metadata": {},
   "outputs": [
    {
     "data": {
      "text/plain": [
       "True"
      ]
     },
     "execution_count": 1,
     "metadata": {},
     "output_type": "execute_result"
    }
   ],
   "source": [
    "s = \"([])\"\n",
    "def isValid(s):\n",
    "    stack = []\n",
    "    hashmap = {')':'(','}':'{',']':'['}\n",
    "    for c in s:\n",
    "        if stack and c in hashmap:\n",
    "            if hashmap[c] == stack[-1]:\n",
    "                stack.pop()\n",
    "            else: \n",
    "                return False  \n",
    "        else:\n",
    "            stack.append(c)\n",
    "    \n",
    "    return not stack\n",
    "isValid(s)\n",
    "        "
   ]
  },
  {
   "cell_type": "markdown",
   "id": "55ae7b98",
   "metadata": {},
   "source": [
    "> 两数之和，哈希表法O(N)核心思想  \n",
    "> - 首先要有个字典{}, name: hashmap\n",
    "> - 遍历数组, 便利过存在hashmap中，key是索引，value是原数组中的值  \n",
    "> complement：补数/差值\n",
    "\n"
   ]
  },
  {
   "cell_type": "code",
   "execution_count": null,
   "id": "7bd0f822",
   "metadata": {},
   "outputs": [],
   "source": [
    "from typing import List\n",
    "class Solution:\n",
    "    def twoSum(self, nums: List[int], target: int) -> List[int]:\n",
    "        # 相同num,也没关系，会返回两个数最近的一对\n",
    "        hashmap = {}\n",
    "        for i, num in enumerate(nums):\n",
    "            complement = target - num\n",
    "            if (complement in hashmap):\n",
    "                return [hashmap[complement],i]\n",
    "            hashmap[num] = i\n",
    "        return []   "
   ]
  }
 ],
 "metadata": {
  "kernelspec": {
   "display_name": "d2l-zh",
   "language": "python",
   "name": "python3"
  },
  "language_info": {
   "codemirror_mode": {
    "name": "ipython",
    "version": 3
   },
   "file_extension": ".py",
   "mimetype": "text/x-python",
   "name": "python",
   "nbconvert_exporter": "python",
   "pygments_lexer": "ipython3",
   "version": "3.9.21"
  }
 },
 "nbformat": 4,
 "nbformat_minor": 5
}
