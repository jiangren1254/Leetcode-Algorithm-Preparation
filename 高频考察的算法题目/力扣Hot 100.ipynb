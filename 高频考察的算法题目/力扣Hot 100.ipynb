{
 "cells": [
  {
   "cell_type": "markdown",
   "id": "55ae7b98",
   "metadata": {},
   "source": [
    "> 两数之和，哈希表法O(N)核心思想  \n",
    "> - 首先要有个字典{}, name: hashmap\n",
    "> - 遍历数组, 便利过存在hashmap中，key是索引，value是原数组中的值  \n",
    "> complement：补数/差值\n",
    "\n"
   ]
  },
  {
   "cell_type": "code",
   "execution_count": null,
   "id": "7bd0f822",
   "metadata": {},
   "outputs": [],
   "source": [
    "from typing import List\n",
    "class Solution:\n",
    "    def twoSum(self, nums: List[int], target: int) -> List[int]:\n",
    "        # 相同num,也没关系，会返回两个数最近的一对\n",
    "        hashmap = {}\n",
    "        for i, num in enumerate(nums):\n",
    "            complement = target - num\n",
    "            if (complement in hashmap):\n",
    "                return [hashmap[complement],i]\n",
    "            hashmap[num] = i\n",
    "        return []   "
   ]
  }
 ],
 "metadata": {
  "kernelspec": {
   "display_name": "d2l-zh",
   "language": "python",
   "name": "python3"
  },
  "language_info": {
   "name": "python",
   "version": "3.9.21"
  }
 },
 "nbformat": 4,
 "nbformat_minor": 5
}
