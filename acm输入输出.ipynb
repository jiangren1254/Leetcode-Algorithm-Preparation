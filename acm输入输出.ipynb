{
 "cells": [
  {
   "cell_type": "code",
   "execution_count": 1,
   "id": "773573b6",
   "metadata": {},
   "outputs": [
    {
     "data": {
      "text/plain": [
       "'1 2 3'"
      ]
     },
     "execution_count": 1,
     "metadata": {},
     "output_type": "execute_result"
    }
   ],
   "source": [
    "input()"
   ]
  },
  {
   "cell_type": "code",
   "execution_count": null,
   "id": "611db42f",
   "metadata": {},
   "outputs": [
    {
     "data": {
      "text/plain": [
       "['1', '2', '3']"
      ]
     },
     "execution_count": 2,
     "metadata": {},
     "output_type": "execute_result"
    }
   ],
   "source": [
    "input().split()"
   ]
  },
  {
   "cell_type": "code",
   "execution_count": null,
   "id": "1b514475",
   "metadata": {},
   "outputs": [],
   "source": [
    "iter = map(int,input().split())\n",
    "for i in iter:\n",
    "    print(i, type(i))"
   ]
  },
  {
   "cell_type": "code",
   "execution_count": 14,
   "id": "54464d7a",
   "metadata": {},
   "outputs": [],
   "source": [
    "for i in iter:\n",
    "    print(i, type(i))"
   ]
  },
  {
   "cell_type": "code",
   "execution_count": null,
   "id": "4cebfe78",
   "metadata": {},
   "outputs": [],
   "source": [
    "list(map(int,input().split()))"
   ]
  },
  {
   "cell_type": "code",
   "execution_count": 15,
   "id": "1cdf37c9",
   "metadata": {},
   "outputs": [],
   "source": [
    "n,m = list(map(int,input().split()))"
   ]
  },
  {
   "cell_type": "code",
   "execution_count": 18,
   "id": "03ea0841",
   "metadata": {},
   "outputs": [],
   "source": [
    "n, m= [5,8] "
   ]
  },
  {
   "cell_type": "code",
   "execution_count": 23,
   "id": "ec19feac",
   "metadata": {},
   "outputs": [
    {
     "name": "stdout",
     "output_type": "stream",
     "text": [
      "hello\n"
     ]
    }
   ],
   "source": [
    "s = \"hello\"\n",
    "rev = s[::1]\n",
    "print(rev)   # 'olleh'"
   ]
  },
  {
   "cell_type": "markdown",
   "id": "fa00301f",
   "metadata": {},
   "source": [
    "# 序列解包\n",
    "\n",
    "- 除了显示的序列解包，如n,m = [2,3]\n",
    "- 还有一种这样的序列解包 *list, 函数调用里,它会把列表的元素拆开，当作多个独立参数传给函数。"
   ]
  },
  {
   "cell_type": "code",
   "execution_count": 40,
   "id": "e202263a",
   "metadata": {},
   "outputs": [
    {
     "data": {
      "text/plain": [
       "[['c', 'f'], ['b', 'e'], ['a', 'd']]"
      ]
     },
     "execution_count": 40,
     "metadata": {},
     "output_type": "execute_result"
    }
   ],
   "source": [
    "matrix = [\n",
    "    [\"a\", \"b\", \"c\"],\n",
    "    [\"d\", \"e\", \"f\"]\n",
    "]\n",
    "zip(*matrix)\n",
    "res = list(map(list, zip(*matrix)))\n",
    "res = res[::-1]\n",
    "res\n",
    "# list(zip(*matrix))"
   ]
  },
  {
   "cell_type": "code",
   "execution_count": 44,
   "id": "0a454e68",
   "metadata": {},
   "outputs": [
    {
     "name": "stdout",
     "output_type": "stream",
     "text": [
      "cf\n",
      "be\n",
      "ad\n"
     ]
    }
   ],
   "source": [
    "for tu in res:\n",
    "    print(''.join(tu))"
   ]
  },
  {
   "cell_type": "code",
   "execution_count": 47,
   "id": "04c84685",
   "metadata": {},
   "outputs": [
    {
     "data": {
      "text/plain": [
       "['c', 'b', 'a']"
      ]
     },
     "execution_count": 47,
     "metadata": {},
     "output_type": "execute_result"
    }
   ],
   "source": [
    "data  =[\"a\", \"b\", \"c\"]\n",
    "data[::-1]"
   ]
  },
  {
   "cell_type": "code",
   "execution_count": null,
   "id": "d19072e8",
   "metadata": {},
   "outputs": [],
   "source": [
    "num = 3.1415926"
   ]
  },
  {
   "cell_type": "code",
   "execution_count": 52,
   "id": "2f01b793",
   "metadata": {},
   "outputs": [
    {
     "name": "stdout",
     "output_type": "stream",
     "text": [
      "3.142\n"
     ]
    }
   ],
   "source": [
    "\n",
    "print(\"{:.3f}\".format(float(input())))"
   ]
  },
  {
   "cell_type": "code",
   "execution_count": 60,
   "id": "c0c4c5cf",
   "metadata": {},
   "outputs": [
    {
     "name": "stdout",
     "output_type": "stream",
     "text": [
      "1 1 4\n"
     ]
    }
   ],
   "source": [
    "n,m = [3, 6]\n",
    "\n",
    "# 简单随机分配\n",
    "arr = n*[1]\n",
    "\n",
    "arr[-1] += m-n\n",
    "\n",
    "print(\" \".join(map(str,arr)))"
   ]
  }
 ],
 "metadata": {
  "kernelspec": {
   "display_name": "d2l-zh",
   "language": "python",
   "name": "python3"
  },
  "language_info": {
   "codemirror_mode": {
    "name": "ipython",
    "version": 3
   },
   "file_extension": ".py",
   "mimetype": "text/x-python",
   "name": "python",
   "nbconvert_exporter": "python",
   "pygments_lexer": "ipython3",
   "version": "3.9.21"
  }
 },
 "nbformat": 4,
 "nbformat_minor": 5
}
